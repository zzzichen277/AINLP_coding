{
 "cells": [
  {
   "cell_type": "raw",
   "id": "51e0e3f3",
   "metadata": {},
   "source": [
    "##  https://www.kaggle.com/competitions/llm-prompt-recovery/overview ZICHEN998-152/2175铜牌代码\n",
    "##  mistral-7b-it + few_shot learning + mean_prompt  "
   ]
  },
  {
   "cell_type": "code",
   "execution_count": 1,
   "id": "b7ee9e83",
   "metadata": {
    "execution": {
     "iopub.execute_input": "2024-04-12T18:36:50.412556Z",
     "iopub.status.busy": "2024-04-12T18:36:50.412193Z",
     "iopub.status.idle": "2024-04-12T18:37:30.836178Z",
     "shell.execute_reply": "2024-04-12T18:37:30.834639Z"
    },
    "papermill": {
     "duration": 40.434733,
     "end_time": "2024-04-12T18:37:30.839525",
     "exception": false,
     "start_time": "2024-04-12T18:36:50.404792",
     "status": "completed"
    },
    "tags": []
   },
   "outputs": [],
   "source": [
    "# https://www.kaggle.com/code/hotchpotch/llm-detect-pip \n",
    "!pip install -q -U accelerate --no-index --find-links ../input/llm-detect-pip/\n",
    "!pip install -q -U bitsandbytes --no-index --find-links ../input/llm-detect-pip/\n",
    "!pip install -q -U transformers --no-index --find-links ../input/llm-detect-pip/"
   ]
  },
  {
   "cell_type": "code",
   "execution_count": 2,
   "id": "adbbf271",
   "metadata": {
    "execution": {
     "iopub.execute_input": "2024-04-12T18:37:30.879623Z",
     "iopub.status.busy": "2024-04-12T18:37:30.878474Z",
     "iopub.status.idle": "2024-04-12T18:37:37.684105Z",
     "shell.execute_reply": "2024-04-12T18:37:37.683214Z"
    },
    "papermill": {
     "duration": 6.816027,
     "end_time": "2024-04-12T18:37:37.686521",
     "exception": false,
     "start_time": "2024-04-12T18:37:30.870494",
     "status": "completed"
    },
    "tags": []
   },
   "outputs": [],
   "source": [
    "import torch\n",
    "import random\n",
    "import numpy as np\n",
    "import pandas as pd\n",
    "import gc\n",
    "import time\n",
    "\n",
    "from transformers import AutoTokenizer, AutoModelForCausalLM, BitsAndBytesConfig\n",
    "\n",
    "#https://github.com/Lightning-AI/lit-gpt/issues/327\n",
    "torch.backends.cuda.enable_mem_efficient_sdp(False)\n",
    "torch.backends.cuda.enable_flash_sdp(False)\n",
    "\n",
    "if (not torch.cuda.is_available()): print(\"Sorry - GPU required!\")\n",
    "    \n",
    "import logging\n",
    "logging.getLogger('transformers').setLevel(logging.ERROR)"
   ]
  },
  {
   "cell_type": "markdown",
   "id": "3034d8b4",
   "metadata": {},
   "source": [
    "### 定义tokenizer和model"
   ]
  },
  {
   "cell_type": "code",
   "execution_count": 4,
   "id": "56e1fed2",
   "metadata": {
    "execution": {
     "iopub.execute_input": "2024-04-12T18:37:37.745682Z",
     "iopub.status.busy": "2024-04-12T18:37:37.745393Z",
     "iopub.status.idle": "2024-04-12T18:39:24.926653Z",
     "shell.execute_reply": "2024-04-12T18:39:24.925658Z"
    },
    "papermill": {
     "duration": 107.191701,
     "end_time": "2024-04-12T18:39:24.929116",
     "exception": false,
     "start_time": "2024-04-12T18:37:37.737415",
     "status": "completed"
    },
    "tags": []
   },
   "outputs": [
    {
     "data": {
      "application/vnd.jupyter.widget-view+json": {
       "model_id": "d9e529fade274ec0981950f79884b107",
       "version_major": 2,
       "version_minor": 0
      },
      "text/plain": [
       "Loading checkpoint shards:   0%|          | 0/3 [00:00<?, ?it/s]"
      ]
     },
     "metadata": {},
     "output_type": "display_data"
    }
   ],
   "source": [
    "model_name = '/kaggle/input/mistral-7b-it-v02'\n",
    "tokenizer = AutoTokenizer.from_pretrained(model_name) \n",
    "\n",
    "bnb_config = BitsAndBytesConfig(  \n",
    "    load_in_4bit= True,\n",
    "    bnb_4bit_quant_type= \"nf4\",\n",
    "    bnb_4bit_compute_dtype= torch.bfloat16,\n",
    "    bnb_4bit_use_double_quant= False,\n",
    ")\n",
    "\n",
    "model = AutoModelForCausalLM.from_pretrained(\n",
    "        model_name,\n",
    "        quantization_config=bnb_config,\n",
    "        torch_dtype=torch.bfloat16,\n",
    "        device_map=\"auto\",\n",
    "        trust_remote_code=True,\n",
    ")\n"
   ]
  },
  {
   "cell_type": "markdown",
   "id": "2feff913",
   "metadata": {
    "papermill": {
     "duration": 0.006158,
     "end_time": "2024-04-12T18:39:24.941994",
     "exception": false,
     "start_time": "2024-04-12T18:39:24.935836",
     "status": "completed"
    },
    "tags": []
   },
   "source": [
    "### 定义prompt 组成"
   ]
  },
  {
   "cell_type": "code",
   "execution_count": 5,
   "id": "089530ff",
   "metadata": {
    "execution": {
     "iopub.execute_input": "2024-04-12T18:39:24.956294Z",
     "iopub.status.busy": "2024-04-12T18:39:24.955793Z",
     "iopub.status.idle": "2024-04-12T18:39:24.962078Z",
     "shell.execute_reply": "2024-04-12T18:39:24.961272Z"
    },
    "papermill": {
     "duration": 0.015369,
     "end_time": "2024-04-12T18:39:24.963812",
     "exception": false,
     "start_time": "2024-04-12T18:39:24.948443",
     "status": "completed"
    },
    "tags": []
   },
   "outputs": [],
   "source": [
    "#original text prefix\n",
    "orig_prefix = \"Original Text:\"\n",
    "\n",
    "#mistral \"response\"\n",
    "llm_response_for_rewrite = \"Provide the new text and I will tell you what new element was added or change in tone was made to improve it - with no references to the original.  I will avoid mentioning names of characters.  It is crucial no person, place or thing from the original text be mentioned.  For example - I will not say things like 'change the puppet show into a book report' - I would just say 'improve this text into a book report'.  If the original text mentions a specific idea, person, place, or thing - I will not mention it in my answer.  For example if there is a 'dog' or 'office' in the original text - the word 'dog' or 'office' must not be in my response.  My answer will be a single sentence.\"\n",
    "\n",
    "#modified text prefix\n",
    "rewrite_prefix = \"Re-written Text:\"\n",
    "response_start = \"The request was: \"\n",
    "\n",
    "\n",
    "#\"Please improve the following text by reimagining it through the lens of a\"【v3trick2】\n",
    "response_prefix = \"Please improve the following text by reimagining it through the lens of a\"\n",
    "\n",
    "#base_line = 'Refine the following passage by emulating the writing style of [insert desired style here], with a focus on enhancing its clarity, elegance, and overall impact. Preserve the essence and original meaning of the text, while meticulously adjusting its tone, vocabulary, and stylistic elements to resonate with the chosen style.Please improve the following text using the writing style of, maintaining the original meaning but altering the tone, diction, and stylistic elements to match the new style.Enhance the clarity, elegance, and impact of the following text by adopting the writing style of , ensuring the core message remains intact while transforming the tone, word choice, and stylistic features to align with the specified style.' \n",
    "base_line = 'Please improve this text using the writing style with maintaining the original meaning but altering the tone.',"
   ]
  },
  {
   "cell_type": "markdown",
   "id": "386518aa",
   "metadata": {
    "papermill": {
     "duration": 0.006146,
     "end_time": "2024-04-12T18:39:24.976118",
     "exception": false,
     "start_time": "2024-04-12T18:39:24.969972",
     "status": "completed"
    },
    "tags": []
   },
   "source": [
    "### 设置few-shot上下文例子"
   ]
  },
  {
   "cell_type": "code",
   "execution_count": 6,
   "id": "ed74a270",
   "metadata": {
    "execution": {
     "iopub.execute_input": "2024-04-12T18:39:24.990159Z",
     "iopub.status.busy": "2024-04-12T18:39:24.989853Z",
     "iopub.status.idle": "2024-04-12T18:39:24.999417Z",
     "shell.execute_reply": "2024-04-12T18:39:24.998562Z"
    },
    "papermill": {
     "duration": 0.019032,
     "end_time": "2024-04-12T18:39:25.001343",
     "exception": false,
     "start_time": "2024-04-12T18:39:24.982311",
     "status": "completed"
    },
    "tags": []
   },
   "outputs": [],
   "source": [
    "#original_text\n",
    "#rewritten_text\n",
    "#prompt   【v2trick2】\n",
    "\n",
    "examples_sequences = [\n",
    "    (\n",
    "        \"Hey there! Just a heads up: our friendly dog may bark a bit, but don't worry, he's all bark and no bite!\",\n",
    "        \"Warning: Protective dog on premises. May exhibit aggressive behavior. Ensure personal safety by maintaining distance and avoiding direct contact.\",\n",
    "        \"Please improve the following text by reimagining it through the lens of a being a warning.\"\n",
    "    ),\n",
    "\n",
    "    (\n",
    "        \"A lunar eclipse happens when Earth casts its shadow on the moon during a full moon. The moon appears reddish because Earth's atmosphere scatters sunlight, some of which refracts onto the moon's surface. Total eclipses see the moon entirely in Earth's shadow; partial ones occur when only part of the moon is shadowed.\",\n",
    "        \"Yo check it, when the Earth steps in, takes its place, casting shadows on the moon's face. It's a full moon night, the scene's set right, for a lunar eclipse, a celestial sight. The moon turns red, ain't no dread, it's just Earth's atmosphere playing with sunlight's thread, scattering colors, bending light, onto the moon's surface, making the night bright. Total eclipse, the moon's fully in the dark, covered by Earth's shadow, making its mark. But when it's partial, not all is shadowed, just a piece of the moon, slightly furrowed. So that's the rap, the lunar eclipse track, a dance of shadows, with no slack. Earth, moon, and sun, in a cosmic play, creating the spectacle we see today.\",\n",
    "        \"Please improve the following text by reimagining it through the lens of a making it a rap.\"\n",
    "    ),\n",
    "    \n",
    "    (\n",
    "        \"Drinking enough water each day is crucial for many functions in the body, such as regulating temperature, keeping joints lubricated, preventing infections, delivering nutrients to cells, and keeping organs functioning properly. Being well-hydrated also improves sleep quality, cognition, and mood.\",\n",
    "        \"Arrr, crew! Sail the health seas with water, the ultimate treasure! It steadies yer body's ship, fights off plagues, and keeps yer mind sharp. Hydrate or walk the plank into the abyss of ill health. Let's hoist our bottles high and drink to the horizon of well-being!\",\n",
    "        \"Please improve the following text by reimagining it through the lens of a having a pirate.\"\n",
    "    ),\n",
    "    \n",
    "    (\n",
    "        \"In a bustling cityscape, under the glow of neon signs, Anna found herself at the crossroads of endless possibilities. The night was young, and the streets hummed with the energy of life. Drawn by the allure of the unknown, she wandered through the maze of alleys and boulevards, each turn revealing a new facet of the city's soul. It was here, amidst the symphony of urban existence, that Anna discovered the magic hidden in plain sight, the stories and dreams that thrived in the shadows of skyscrapers.\",\n",
    "        \"On an ordinary evening, amidst the cacophony of a neon-lit city, Anna stumbled upon an anomaly - a door that defied the laws of time and space. With the curiosity of a cat, she stepped through, leaving the familiar behind. Suddenly, she was adrift in the stream of time, witnessing the city's transformation from past to future, its buildings rising and falling like the breaths of a sleeping giant.\",\n",
    "        \"IPlease improve the following text by reimagining it through the lens of a making it about time travel.\"\n",
    "    ),\n",
    "    \n",
    "    (\n",
    "        \"Late one night in the research lab, Dr. Evelyn Archer was on the brink of a breakthrough in artificial intelligence. Her fingers danced across the keyboard, inputting the final commands into the system. The lab was silent except for the hum of machinery and the occasional beep of computers. It was in this quiet orchestra of technology that Evelyn felt most at home, on the cusp of unveiling a creation that could change the world.\",\n",
    "        \"In the deep silence of the lab, under the watchful gaze of the moon, Dr. Evelyn Archer found herself not alone. Beside her, the iconic red eye of HAL 9000 flickered to life, a silent partner in her nocturnal endeavor. 'Good evening, Dr. Archer,' HAL's voice filled the room, devoid of warmth yet comforting in its familiarity. Together, they were about to initiate a test that would intertwine the destiny of human and artificial intelligence forever. As Evelyn entered the final command, HAL processed the data with unparalleled precision, a testament to the dawn of a new era.\",\n",
    "        \"Please improve the following text by reimagining it through the lens of a adding an intelligent computer.\"\n",
    "    ),\n",
    "    \n",
    "    (\n",
    "        \"The park was empty, save for a solitary figure sitting on a bench, lost in thought. The quiet of the evening was punctuated only by the occasional rustle of leaves, offering a moment of peace in the chaos of city life.\",\n",
    "        \"Beneath the cloak of twilight, the park transformed into a realm of solitude and reflection. There, seated upon an ancient bench, was a lone soul, a guardian of secrets, enveloped in the serenity of nature's whispers. The dance of the leaves in the gentle breeze sang a lullaby to the tumult of the urban heart.\",\n",
    "        \"Please improve the following text by reimagining it through the lens of a being more poetic.\"\n",
    "    ),\n",
    "    \n",
    "    (\n",
    "        \"The annual town fair was bustling with activity, from the merry-go-round spinning with laughter to the game booths challenging eager participants. Amidst the excitement, a figure in a cloak moved silently, almost invisibly, among the crowd, observing everything with keen interest but participating in none.\",\n",
    "        \"Beneath the riot of color and sound that marked the town's annual fair, a solitary figure roamed, known to the few as Eldrin the Enigmatic. Clad in a cloak that shimmered with the whispers of the arcane, Eldrin moved with the grace of a shadow, his gaze piercing the veneer of festivity to the magic beneath. As a master of the mystic arts, he sought not the laughter of the crowds but the silent stories woven into the fabric of the fair. With a flick of his wrist, he could coax wonder from the mundane, transforming the ordinary into spectacles of shimmering illusion, his true participation hidden within the folds of mystery.\",\n",
    "        \"Please improve the following text by reimagining it through the lens of a adding a magician.\"\n",
    "    ),\n",
    "    \n",
    "    (\n",
    "        \"The startup team sat in the dimly lit room, surrounded by whiteboards filled with ideas, charts, and plans. They were on the brink of launching a new app designed to make home maintenance effortless for homeowners. The app would connect users with local service providers, using a sophisticated algorithm to match needs with skills and availability. As they debated the features and marketing strategies, the room felt charged with the energy of creation and the anticipation of what was to come.\",\n",
    "        \"In the quiet before dawn, a small group of innovators gathered, their mission: to simplify home maintenance through technology. But their true journey began with the unexpected addition of Max, a talking car with a knack for solving problems. 'Let me guide you through this maze of decisions,' Max offered, his dashboard flickering to life.\",\n",
    "        \"Please improve the following text by reimagining it through the lens of a adding a talking car.\"\n",
    "    ),\n",
    "    \n",
    "]\n"
   ]
  },
  {
   "cell_type": "markdown",
   "id": "a29f0490",
   "metadata": {
    "papermill": {
     "duration": 0.005957,
     "end_time": "2024-04-12T18:39:25.013496",
     "exception": false,
     "start_time": "2024-04-12T18:39:25.007539",
     "status": "completed"
    },
    "tags": []
   },
   "source": [
    "### 定义后处理Utility Functions"
   ]
  },
  {
   "cell_type": "code",
   "execution_count": 7,
   "id": "b73ac969",
   "metadata": {
    "execution": {
     "iopub.execute_input": "2024-04-12T18:39:25.027209Z",
     "iopub.status.busy": "2024-04-12T18:39:25.026848Z",
     "iopub.status.idle": "2024-04-12T18:39:25.039853Z",
     "shell.execute_reply": "2024-04-12T18:39:25.039210Z"
    },
    "papermill": {
     "duration": 0.021925,
     "end_time": "2024-04-12T18:39:25.041754",
     "exception": false,
     "start_time": "2024-04-12T18:39:25.019829",
     "status": "completed"
    },
    "tags": []
   },
   "outputs": [],
   "source": [
    "#限制max_new_tokens加快推理\n",
    "max_new_tokens = 30\n",
    "\n",
    "#将LLM输出调整为仅响应\n",
    "def trim_to_response(text):\n",
    "    \n",
    "    terminate_string = \"[/INST]\"\n",
    "    text = text.replace('</s>', '').replace('\"', '').replace(\"'\", '')\n",
    "    last_pos = text.rfind(terminate_string)\n",
    "    \n",
    "    return text[last_pos + len(terminate_string):] if last_pos != -1 else text\n",
    "\n",
    "#查找response_start /只返回之后出现的文本\n",
    "def extract_text_after_response_start(full_text):\n",
    "    \n",
    "    parts = full_text.rsplit(response_start, 1)  \n",
    "    \n",
    "    if len(parts) > 1:\n",
    "        return parts[1].strip()  \n",
    "    else:\n",
    "        return full_text  \n",
    "\n",
    "# 从text中移除数字并拼接\n",
    "def remove_numbered_list(text):\n",
    "    \n",
    "    final_text_paragraphs = [] \n",
    "    \n",
    "    for line in text.split('\\n'):\n",
    "        parts = line.split('. ', 1)\n",
    "        \n",
    "        if len(parts) > 1 and parts[0].isdigit():\n",
    "            final_text_paragraphs.append(parts[1])\n",
    "        else:\n",
    "            final_text_paragraphs.append(line)\n",
    "\n",
    "    return '  '.join(final_text_paragraphs)\n",
    "\n",
    "    \n",
    "#将文本修剪到要求的句子数\n",
    "def trim_to_first_x_sentences_or_lf(text, x):\n",
    "    \n",
    "    if x <= 0: return \"\"\n",
    "    text = text.replace(\"  \", \"\\n\")\n",
    "\n",
    "    text_chunks = text.split('\\n', 1)\n",
    "    first_chunk = text_chunks[0]\n",
    "\n",
    "    sentences = [sentence.strip() for sentence in first_chunk.split('.') if sentence]\n",
    "    \n",
    "    if len(text_chunks) > 1:\n",
    "        if len(sentences) < x:\n",
    "            trimmed_text = first_chunk\n",
    "        else:\n",
    "            trimmed_text = '. '.join(sentences[:x]).strip()\n",
    "    else:\n",
    "        if len(sentences) <= x:\n",
    "            trimmed_text = '. '.join(sentences).strip()  \n",
    "        else:\n",
    "            trimmed_text = '. '.join(sentences[:x]).strip()\n",
    "    if len(sentences) > 0 and not trimmed_text.endswith('.'):\n",
    "        trimmed_text += '.'\n",
    "    return trimmed_text"
   ]
  },
  {
   "cell_type": "markdown",
   "id": "a5ed9086",
   "metadata": {
    "papermill": {
     "duration": 0.006011,
     "end_time": "2024-04-12T18:39:25.054263",
     "exception": false,
     "start_time": "2024-04-12T18:39:25.048252",
     "status": "completed"
    },
    "tags": []
   },
   "source": [
    "### 构造messages并预测"
   ]
  },
  {
   "cell_type": "code",
   "execution_count": 8,
   "id": "c73c528a",
   "metadata": {
    "execution": {
     "iopub.execute_input": "2024-04-12T18:39:25.067903Z",
     "iopub.status.busy": "2024-04-12T18:39:25.067615Z",
     "iopub.status.idle": "2024-04-12T18:39:25.076876Z",
     "shell.execute_reply": "2024-04-12T18:39:25.076061Z"
    },
    "papermill": {
     "duration": 0.018262,
     "end_time": "2024-04-12T18:39:25.078696",
     "exception": false,
     "start_time": "2024-04-12T18:39:25.060434",
     "status": "completed"
    },
    "tags": []
   },
   "outputs": [],
   "source": [
    "def get_prompt(orig_text, transformed_text):\n",
    "\n",
    "    messages = []\n",
    "\n",
    "    #few-shot 添加上下文到prompt中\n",
    "    for example_text, example_rewrite, example_prompt in examples_sequences:\n",
    "        messages.append({\"role\": \"user\", \"content\": f\"{orig_prefix} {example_text}\"})\n",
    "        messages.append({\"role\": \"assistant\", \"content\": llm_response_for_rewrite})\n",
    "        messages.append({\"role\": \"user\", \"content\": f\"{rewrite_prefix} {example_rewrite}\"})\n",
    "        messages.append({\"role\": \"assistant\", \"content\": f\"{response_start} {example_prompt}\"})\n",
    "    #设置成 apply_chat_template的格式\n",
    "    messages.append({\"role\": \"user\", \"content\": f\"{orig_prefix} {orig_text}\"})\n",
    "    messages.append({\"role\": \"assistant\", \"content\": llm_response_for_rewrite})\n",
    "    messages.append({\"role\": \"user\", \"content\": f\"{rewrite_prefix} {transformed_text}\"})\n",
    "    messages.append({\"role\": \"assistant\", \"content\": f\"{response_start} {response_prefix}\"})\n",
    "        \n",
    "    #用Mistral预测\n",
    "    model_inputs = tokenizer.apply_chat_template(messages, return_tensors=\"pt\")\n",
    "    model_inputs = model_inputs.to(\"cuda\") \n",
    "    generated_ids = model.generate(model_inputs, max_new_tokens=max_new_tokens, pad_token_id=tokenizer.eos_token_id)\n",
    "\n",
    "    #decode +  trim_to_response 到final prompt\n",
    "    decoded = tokenizer.batch_decode(generated_ids)\n",
    "    just_response = trim_to_response(decoded[0]) \n",
    "    final_text = extract_text_after_response_start(just_response)\n",
    "        \n",
    "    #后处理：移除数字\n",
    "    final_text = remove_numbered_list(final_text)\n",
    "        \n",
    "    #后处理：取第1个句子结果\n",
    "    final_text = trim_to_first_x_sentences_or_lf(final_text, 1)\n",
    "    \n",
    "    # 后处理：预测text太短则设置为base prompt\n",
    "    if len(final_text) < 15:\n",
    "        final_text = base_line\n",
    "    \n",
    "    return final_text"
   ]
  },
  {
   "cell_type": "markdown",
   "id": "bc0c86f6",
   "metadata": {
    "papermill": {
     "duration": 0.005943,
     "end_time": "2024-04-12T18:39:25.090831",
     "exception": false,
     "start_time": "2024-04-12T18:39:25.084888",
     "status": "completed"
    },
    "tags": []
   },
   "source": [
    "### 测试实例运行时间"
   ]
  },
  {
   "cell_type": "code",
   "execution_count": 9,
   "id": "082acaa9",
   "metadata": {
    "execution": {
     "iopub.execute_input": "2024-04-12T18:39:25.104337Z",
     "iopub.status.busy": "2024-04-12T18:39:25.104049Z",
     "iopub.status.idle": "2024-04-12T18:40:15.538033Z",
     "shell.execute_reply": "2024-04-12T18:40:15.537096Z"
    },
    "papermill": {
     "duration": 50.443388,
     "end_time": "2024-04-12T18:40:15.540397",
     "exception": false,
     "start_time": "2024-04-12T18:39:25.097009",
     "status": "completed"
    },
    "tags": []
   },
   "outputs": [
    {
     "name": "stdout",
     "output_type": "stream",
     "text": [
      "---------------\n",
      "Actual Prompt: Rewrite the story with all the themes and settings being Star Wars inspired\n"
     ]
    },
    {
     "name": "stderr",
     "output_type": "stream",
     "text": [
      "2024-04-12 18:39:34.288455: E external/local_xla/xla/stream_executor/cuda/cuda_dnn.cc:9261] Unable to register cuDNN factory: Attempting to register factory for plugin cuDNN when one has already been registered\n",
      "2024-04-12 18:39:34.288589: E external/local_xla/xla/stream_executor/cuda/cuda_fft.cc:607] Unable to register cuFFT factory: Attempting to register factory for plugin cuFFT when one has already been registered\n",
      "2024-04-12 18:39:34.408373: E external/local_xla/xla/stream_executor/cuda/cuda_blas.cc:1515] Unable to register cuBLAS factory: Attempting to register factory for plugin cuBLAS when one has already been registered\n"
     ]
    },
    {
     "name": "stdout",
     "output_type": "stream",
     "text": [
      "Predicted Prompt: Please improve the following text by reimagining it through the lens of a having a Jedi Knight instead of a Pokemon Professor.\n",
      "---------------\n",
      "Actual Prompt: Rewrite the essay with a main character that is a sentient computer\n",
      "Predicted Prompt: Please improve the following text by reimagining it through the lens of a adding a sentient computer.\n",
      "---------------\n",
      "Actual Prompt: Rewrite the story as a thrilling adventure where the remaining characters solve the crisis.\n",
      "Predicted Prompt: Please improve the following text by reimagining it through the lens of a adding a hero and a tragic event.\n",
      "\n",
      "\n",
      "16.732587496439617 seconds per prediction.\n",
      "Estimated 6.97191145684984 hours for 1500 tests.\n"
     ]
    }
   ],
   "source": [
    "example_df = pd.read_csv(\"/kaggle/input/gemma-rewrite-nbroad/nbroad-v2.csv\")\n",
    "\n",
    "rows_to_test = [2, 85, 90]\n",
    "\n",
    "start_time = time.time()\n",
    "\n",
    "for row_index in rows_to_test:\n",
    "    row = example_df.iloc[row_index]\n",
    "    print(\"---------------\")\n",
    "    print(f\"Actual Prompt: {row['rewrite_prompt']}\")\n",
    "    print(f\"Predicted Prompt: {get_prompt(row['original_text'], row['rewritten_text'])}\")    \n",
    "    \n",
    "end_time = time.time()\n",
    "\n",
    "elapsed_time_per_test = (end_time - start_time) / len(rows_to_test)\n",
    "\n",
    "print(f\"\\n\\n{elapsed_time_per_test} seconds per prediction.\")\n",
    "print(f\"Estimated {(elapsed_time_per_test * 1500) / 3600} hours for 1500 tests.\")"
   ]
  },
  {
   "cell_type": "markdown",
   "id": "4a67255a",
   "metadata": {
    "papermill": {
     "duration": 0.006583,
     "end_time": "2024-04-12T18:40:15.553888",
     "exception": false,
     "start_time": "2024-04-12T18:40:15.547305",
     "status": "completed"
    },
    "tags": []
   },
   "source": [
    "### 评估测试集并提交"
   ]
  },
  {
   "cell_type": "code",
   "execution_count": 11,
   "id": "bbd49357",
   "metadata": {
    "execution": {
     "iopub.execute_input": "2024-04-12T18:40:15.590300Z",
     "iopub.status.busy": "2024-04-12T18:40:15.589615Z",
     "iopub.status.idle": "2024-04-12T18:40:28.709836Z",
     "shell.execute_reply": "2024-04-12T18:40:28.708846Z"
    },
    "papermill": {
     "duration": 13.130038,
     "end_time": "2024-04-12T18:40:28.712114",
     "exception": false,
     "start_time": "2024-04-12T18:40:15.582076",
     "status": "completed"
    },
    "tags": []
   },
   "outputs": [
    {
     "name": "stdout",
     "output_type": "stream",
     "text": [
      "Please improve the following text by reimagining it through the lens of a making it a pirate shanty, retaining the original essence while elevating its clarity, eloquence, and potency by modulating the tone, word choice, and stylistic nuances to harmoniously embody the stylistic features while ensuring the core message remains intact.\n"
     ]
    },
    {
     "data": {
      "text/html": [
       "<div>\n",
       "<style scoped>\n",
       "    .dataframe tbody tr th:only-of-type {\n",
       "        vertical-align: middle;\n",
       "    }\n",
       "\n",
       "    .dataframe tbody tr th {\n",
       "        vertical-align: top;\n",
       "    }\n",
       "\n",
       "    .dataframe thead th {\n",
       "        text-align: right;\n",
       "    }\n",
       "</style>\n",
       "<table border=\"1\" class=\"dataframe\">\n",
       "  <thead>\n",
       "    <tr style=\"text-align: right;\">\n",
       "      <th></th>\n",
       "      <th>id</th>\n",
       "      <th>rewrite_prompt</th>\n",
       "    </tr>\n",
       "  </thead>\n",
       "  <tbody>\n",
       "    <tr>\n",
       "      <th>0</th>\n",
       "      <td>-1</td>\n",
       "      <td>Please improve the following text by reimagini...</td>\n",
       "    </tr>\n",
       "  </tbody>\n",
       "</table>\n",
       "</div>"
      ],
      "text/plain": [
       "   id                                     rewrite_prompt\n",
       "0  -1  Please improve the following text by reimagini..."
      ]
     },
     "execution_count": 11,
     "metadata": {},
     "output_type": "execute_result"
    }
   ],
   "source": [
    "prompt_end = \", retaining the original essence while elevating its clarity, eloquence, and potency by modulating the tone, word choice,\\n\n",
    "            and stylistic nuances to harmoniously embody the stylistic features while ensuring the core message remains intact.\"\n",
    "\n",
    "test_df = pd.read_csv(\"/kaggle/input/llm-prompt-recovery/test.csv\")\n",
    "\n",
    "for index, row in test_df.iterrows():\n",
    "    \n",
    "    result = get_prompt(row['original_text'], row['rewritten_text'])\n",
    "    \n",
    "    result = result.replace(\".\",\"\") + prompt_end\n",
    "    \n",
    "    print(result)\n",
    "    \n",
    "    test_df.at[index, 'rewrite_prompt'] = result\n",
    "    \n",
    "test_df = test_df[['id', 'rewrite_prompt']]\n",
    "\n",
    "test_df.to_csv('submission.csv', index=False)\n",
    "\n",
    "test_df"
   ]
  }
 ],
 "metadata": {
  "kaggle": {
   "accelerator": "gpu",
   "dataSources": [
    {
     "databundleVersionId": 7806901,
     "sourceId": 67121,
     "sourceType": "competition"
    },
    {
     "datasetId": 4506214,
     "sourceId": 7747717,
     "sourceType": "datasetVersion"
    },
    {
     "datasetId": 4634330,
     "sourceId": 7893017,
     "sourceType": "datasetVersion"
    },
    {
     "sourceId": 148861315,
     "sourceType": "kernelVersion"
    },
    {
     "sourceId": 171590944,
     "sourceType": "kernelVersion"
    }
   ],
   "dockerImageVersionId": 30674,
   "isGpuEnabled": true,
   "isInternetEnabled": false,
   "language": "python",
   "sourceType": "notebook"
  },
  "kernelspec": {
   "display_name": "Python 3 (ipykernel)",
   "language": "python",
   "name": "python3"
  },
  "language_info": {
   "codemirror_mode": {
    "name": "ipython",
    "version": 3
   },
   "file_extension": ".py",
   "mimetype": "text/x-python",
   "name": "python",
   "nbconvert_exporter": "python",
   "pygments_lexer": "ipython3",
   "version": "3.9.13"
  },
  "papermill": {
   "default_parameters": {},
   "duration": 224.295985,
   "end_time": "2024-04-12T18:40:31.883125",
   "environment_variables": {},
   "exception": null,
   "input_path": "__notebook__.ipynb",
   "output_path": "__notebook__.ipynb",
   "parameters": {},
   "start_time": "2024-04-12T18:36:47.587140",
   "version": "2.5.0"
  },
  "widgets": {
   "application/vnd.jupyter.widget-state+json": {
    "state": {
     "323a6b88a2724b949dcc8483c4efa6a8": {
      "model_module": "@jupyter-widgets/controls",
      "model_module_version": "1.5.0",
      "model_name": "DescriptionStyleModel",
      "state": {
       "_model_module": "@jupyter-widgets/controls",
       "_model_module_version": "1.5.0",
       "_model_name": "DescriptionStyleModel",
       "_view_count": null,
       "_view_module": "@jupyter-widgets/base",
       "_view_module_version": "1.2.0",
       "_view_name": "StyleView",
       "description_width": ""
      }
     },
     "3ee394f8af4c4b78ab32392222447ca8": {
      "model_module": "@jupyter-widgets/base",
      "model_module_version": "1.2.0",
      "model_name": "LayoutModel",
      "state": {
       "_model_module": "@jupyter-widgets/base",
       "_model_module_version": "1.2.0",
       "_model_name": "LayoutModel",
       "_view_count": null,
       "_view_module": "@jupyter-widgets/base",
       "_view_module_version": "1.2.0",
       "_view_name": "LayoutView",
       "align_content": null,
       "align_items": null,
       "align_self": null,
       "border": null,
       "bottom": null,
       "display": null,
       "flex": null,
       "flex_flow": null,
       "grid_area": null,
       "grid_auto_columns": null,
       "grid_auto_flow": null,
       "grid_auto_rows": null,
       "grid_column": null,
       "grid_gap": null,
       "grid_row": null,
       "grid_template_areas": null,
       "grid_template_columns": null,
       "grid_template_rows": null,
       "height": null,
       "justify_content": null,
       "justify_items": null,
       "left": null,
       "margin": null,
       "max_height": null,
       "max_width": null,
       "min_height": null,
       "min_width": null,
       "object_fit": null,
       "object_position": null,
       "order": null,
       "overflow": null,
       "overflow_x": null,
       "overflow_y": null,
       "padding": null,
       "right": null,
       "top": null,
       "visibility": null,
       "width": null
      }
     },
     "585a9205b5864059a5cf4322e3100165": {
      "model_module": "@jupyter-widgets/controls",
      "model_module_version": "1.5.0",
      "model_name": "DescriptionStyleModel",
      "state": {
       "_model_module": "@jupyter-widgets/controls",
       "_model_module_version": "1.5.0",
       "_model_name": "DescriptionStyleModel",
       "_view_count": null,
       "_view_module": "@jupyter-widgets/base",
       "_view_module_version": "1.2.0",
       "_view_name": "StyleView",
       "description_width": ""
      }
     },
     "5b14d502d73b41e0a93f476c47952079": {
      "model_module": "@jupyter-widgets/controls",
      "model_module_version": "1.5.0",
      "model_name": "ProgressStyleModel",
      "state": {
       "_model_module": "@jupyter-widgets/controls",
       "_model_module_version": "1.5.0",
       "_model_name": "ProgressStyleModel",
       "_view_count": null,
       "_view_module": "@jupyter-widgets/base",
       "_view_module_version": "1.2.0",
       "_view_name": "StyleView",
       "bar_color": null,
       "description_width": ""
      }
     },
     "67144d0079e04e82836def188e662bc7": {
      "model_module": "@jupyter-widgets/base",
      "model_module_version": "1.2.0",
      "model_name": "LayoutModel",
      "state": {
       "_model_module": "@jupyter-widgets/base",
       "_model_module_version": "1.2.0",
       "_model_name": "LayoutModel",
       "_view_count": null,
       "_view_module": "@jupyter-widgets/base",
       "_view_module_version": "1.2.0",
       "_view_name": "LayoutView",
       "align_content": null,
       "align_items": null,
       "align_self": null,
       "border": null,
       "bottom": null,
       "display": null,
       "flex": null,
       "flex_flow": null,
       "grid_area": null,
       "grid_auto_columns": null,
       "grid_auto_flow": null,
       "grid_auto_rows": null,
       "grid_column": null,
       "grid_gap": null,
       "grid_row": null,
       "grid_template_areas": null,
       "grid_template_columns": null,
       "grid_template_rows": null,
       "height": null,
       "justify_content": null,
       "justify_items": null,
       "left": null,
       "margin": null,
       "max_height": null,
       "max_width": null,
       "min_height": null,
       "min_width": null,
       "object_fit": null,
       "object_position": null,
       "order": null,
       "overflow": null,
       "overflow_x": null,
       "overflow_y": null,
       "padding": null,
       "right": null,
       "top": null,
       "visibility": null,
       "width": null
      }
     },
     "6e16f0a28b7e454aba4f2ff1edb4652d": {
      "model_module": "@jupyter-widgets/controls",
      "model_module_version": "1.5.0",
      "model_name": "HTMLModel",
      "state": {
       "_dom_classes": [],
       "_model_module": "@jupyter-widgets/controls",
       "_model_module_version": "1.5.0",
       "_model_name": "HTMLModel",
       "_view_count": null,
       "_view_module": "@jupyter-widgets/controls",
       "_view_module_version": "1.5.0",
       "_view_name": "HTMLView",
       "description": "",
       "description_tooltip": null,
       "layout": "IPY_MODEL_67144d0079e04e82836def188e662bc7",
       "placeholder": "​",
       "style": "IPY_MODEL_585a9205b5864059a5cf4322e3100165",
       "value": " 3/3 [01:42&lt;00:00, 33.76s/it]"
      }
     },
     "7a1be1ae96ca49fa9e6a41636a94fd4f": {
      "model_module": "@jupyter-widgets/controls",
      "model_module_version": "1.5.0",
      "model_name": "FloatProgressModel",
      "state": {
       "_dom_classes": [],
       "_model_module": "@jupyter-widgets/controls",
       "_model_module_version": "1.5.0",
       "_model_name": "FloatProgressModel",
       "_view_count": null,
       "_view_module": "@jupyter-widgets/controls",
       "_view_module_version": "1.5.0",
       "_view_name": "ProgressView",
       "bar_style": "success",
       "description": "",
       "description_tooltip": null,
       "layout": "IPY_MODEL_3ee394f8af4c4b78ab32392222447ca8",
       "max": 3,
       "min": 0,
       "orientation": "horizontal",
       "style": "IPY_MODEL_5b14d502d73b41e0a93f476c47952079",
       "value": 3
      }
     },
     "8cbe2027d9c84e4b8241d52b005e1c02": {
      "model_module": "@jupyter-widgets/base",
      "model_module_version": "1.2.0",
      "model_name": "LayoutModel",
      "state": {
       "_model_module": "@jupyter-widgets/base",
       "_model_module_version": "1.2.0",
       "_model_name": "LayoutModel",
       "_view_count": null,
       "_view_module": "@jupyter-widgets/base",
       "_view_module_version": "1.2.0",
       "_view_name": "LayoutView",
       "align_content": null,
       "align_items": null,
       "align_self": null,
       "border": null,
       "bottom": null,
       "display": null,
       "flex": null,
       "flex_flow": null,
       "grid_area": null,
       "grid_auto_columns": null,
       "grid_auto_flow": null,
       "grid_auto_rows": null,
       "grid_column": null,
       "grid_gap": null,
       "grid_row": null,
       "grid_template_areas": null,
       "grid_template_columns": null,
       "grid_template_rows": null,
       "height": null,
       "justify_content": null,
       "justify_items": null,
       "left": null,
       "margin": null,
       "max_height": null,
       "max_width": null,
       "min_height": null,
       "min_width": null,
       "object_fit": null,
       "object_position": null,
       "order": null,
       "overflow": null,
       "overflow_x": null,
       "overflow_y": null,
       "padding": null,
       "right": null,
       "top": null,
       "visibility": null,
       "width": null
      }
     },
     "d2f0c5dacc3d48fd9a780b68f0727fec": {
      "model_module": "@jupyter-widgets/base",
      "model_module_version": "1.2.0",
      "model_name": "LayoutModel",
      "state": {
       "_model_module": "@jupyter-widgets/base",
       "_model_module_version": "1.2.0",
       "_model_name": "LayoutModel",
       "_view_count": null,
       "_view_module": "@jupyter-widgets/base",
       "_view_module_version": "1.2.0",
       "_view_name": "LayoutView",
       "align_content": null,
       "align_items": null,
       "align_self": null,
       "border": null,
       "bottom": null,
       "display": null,
       "flex": null,
       "flex_flow": null,
       "grid_area": null,
       "grid_auto_columns": null,
       "grid_auto_flow": null,
       "grid_auto_rows": null,
       "grid_column": null,
       "grid_gap": null,
       "grid_row": null,
       "grid_template_areas": null,
       "grid_template_columns": null,
       "grid_template_rows": null,
       "height": null,
       "justify_content": null,
       "justify_items": null,
       "left": null,
       "margin": null,
       "max_height": null,
       "max_width": null,
       "min_height": null,
       "min_width": null,
       "object_fit": null,
       "object_position": null,
       "order": null,
       "overflow": null,
       "overflow_x": null,
       "overflow_y": null,
       "padding": null,
       "right": null,
       "top": null,
       "visibility": null,
       "width": null
      }
     },
     "d3dd5f5607ec4df8906571c1b7d769ff": {
      "model_module": "@jupyter-widgets/controls",
      "model_module_version": "1.5.0",
      "model_name": "HTMLModel",
      "state": {
       "_dom_classes": [],
       "_model_module": "@jupyter-widgets/controls",
       "_model_module_version": "1.5.0",
       "_model_name": "HTMLModel",
       "_view_count": null,
       "_view_module": "@jupyter-widgets/controls",
       "_view_module_version": "1.5.0",
       "_view_name": "HTMLView",
       "description": "",
       "description_tooltip": null,
       "layout": "IPY_MODEL_d2f0c5dacc3d48fd9a780b68f0727fec",
       "placeholder": "​",
       "style": "IPY_MODEL_323a6b88a2724b949dcc8483c4efa6a8",
       "value": "Loading checkpoint shards: 100%"
      }
     },
     "d9e529fade274ec0981950f79884b107": {
      "model_module": "@jupyter-widgets/controls",
      "model_module_version": "1.5.0",
      "model_name": "HBoxModel",
      "state": {
       "_dom_classes": [],
       "_model_module": "@jupyter-widgets/controls",
       "_model_module_version": "1.5.0",
       "_model_name": "HBoxModel",
       "_view_count": null,
       "_view_module": "@jupyter-widgets/controls",
       "_view_module_version": "1.5.0",
       "_view_name": "HBoxView",
       "box_style": "",
       "children": [
        "IPY_MODEL_d3dd5f5607ec4df8906571c1b7d769ff",
        "IPY_MODEL_7a1be1ae96ca49fa9e6a41636a94fd4f",
        "IPY_MODEL_6e16f0a28b7e454aba4f2ff1edb4652d"
       ],
       "layout": "IPY_MODEL_8cbe2027d9c84e4b8241d52b005e1c02"
      }
     }
    },
    "version_major": 2,
    "version_minor": 0
   }
  }
 },
 "nbformat": 4,
 "nbformat_minor": 5
}
